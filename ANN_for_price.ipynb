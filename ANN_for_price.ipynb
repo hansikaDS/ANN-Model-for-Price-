{
  "nbformat": 4,
  "nbformat_minor": 0,
  "metadata": {
    "colab": {
      "provenance": [],
      "authorship_tag": "ABX9TyO8UEfLKlrfKgEPRVBxIguE",
      "include_colab_link": true
    },
    "kernelspec": {
      "name": "python3",
      "display_name": "Python 3"
    },
    "language_info": {
      "name": "python"
    }
  },
  "cells": [
    {
      "cell_type": "markdown",
      "metadata": {
        "id": "view-in-github",
        "colab_type": "text"
      },
      "source": [
        "<a href=\"https://colab.research.google.com/github/hansikaDS/ANN-Model-for-Price-/blob/main/ANN_for_price.ipynb\" target=\"_parent\"><img src=\"https://colab.research.google.com/assets/colab-badge.svg\" alt=\"Open In Colab\"/></a>"
      ]
    },
    {
      "cell_type": "code",
      "execution_count": 1,
      "metadata": {
        "colab": {
          "base_uri": "https://localhost:8080/"
        },
        "id": "Ij7iK-5IJKEK",
        "outputId": "d2277805-841b-49d9-96ff-f1cbcbe772f8"
      },
      "outputs": [
        {
          "output_type": "stream",
          "name": "stdout",
          "text": [
            "Requirement already satisfied: tensorflow in /usr/local/lib/python3.10/dist-packages (2.15.0)\n",
            "Requirement already satisfied: pandas in /usr/local/lib/python3.10/dist-packages (2.0.3)\n",
            "Requirement already satisfied: scikit-learn in /usr/local/lib/python3.10/dist-packages (1.2.2)\n",
            "Requirement already satisfied: absl-py>=1.0.0 in /usr/local/lib/python3.10/dist-packages (from tensorflow) (1.4.0)\n",
            "Requirement already satisfied: astunparse>=1.6.0 in /usr/local/lib/python3.10/dist-packages (from tensorflow) (1.6.3)\n",
            "Requirement already satisfied: flatbuffers>=23.5.26 in /usr/local/lib/python3.10/dist-packages (from tensorflow) (24.3.25)\n",
            "Requirement already satisfied: gast!=0.5.0,!=0.5.1,!=0.5.2,>=0.2.1 in /usr/local/lib/python3.10/dist-packages (from tensorflow) (0.6.0)\n",
            "Requirement already satisfied: google-pasta>=0.1.1 in /usr/local/lib/python3.10/dist-packages (from tensorflow) (0.2.0)\n",
            "Requirement already satisfied: h5py>=2.9.0 in /usr/local/lib/python3.10/dist-packages (from tensorflow) (3.9.0)\n",
            "Requirement already satisfied: libclang>=13.0.0 in /usr/local/lib/python3.10/dist-packages (from tensorflow) (18.1.1)\n",
            "Requirement already satisfied: ml-dtypes~=0.2.0 in /usr/local/lib/python3.10/dist-packages (from tensorflow) (0.2.0)\n",
            "Requirement already satisfied: numpy<2.0.0,>=1.23.5 in /usr/local/lib/python3.10/dist-packages (from tensorflow) (1.25.2)\n",
            "Requirement already satisfied: opt-einsum>=2.3.2 in /usr/local/lib/python3.10/dist-packages (from tensorflow) (3.3.0)\n",
            "Requirement already satisfied: packaging in /usr/local/lib/python3.10/dist-packages (from tensorflow) (24.1)\n",
            "Requirement already satisfied: protobuf!=4.21.0,!=4.21.1,!=4.21.2,!=4.21.3,!=4.21.4,!=4.21.5,<5.0.0dev,>=3.20.3 in /usr/local/lib/python3.10/dist-packages (from tensorflow) (3.20.3)\n",
            "Requirement already satisfied: setuptools in /usr/local/lib/python3.10/dist-packages (from tensorflow) (67.7.2)\n",
            "Requirement already satisfied: six>=1.12.0 in /usr/local/lib/python3.10/dist-packages (from tensorflow) (1.16.0)\n",
            "Requirement already satisfied: termcolor>=1.1.0 in /usr/local/lib/python3.10/dist-packages (from tensorflow) (2.4.0)\n",
            "Requirement already satisfied: typing-extensions>=3.6.6 in /usr/local/lib/python3.10/dist-packages (from tensorflow) (4.12.2)\n",
            "Requirement already satisfied: wrapt<1.15,>=1.11.0 in /usr/local/lib/python3.10/dist-packages (from tensorflow) (1.14.1)\n",
            "Requirement already satisfied: tensorflow-io-gcs-filesystem>=0.23.1 in /usr/local/lib/python3.10/dist-packages (from tensorflow) (0.37.1)\n",
            "Requirement already satisfied: grpcio<2.0,>=1.24.3 in /usr/local/lib/python3.10/dist-packages (from tensorflow) (1.64.1)\n",
            "Requirement already satisfied: tensorboard<2.16,>=2.15 in /usr/local/lib/python3.10/dist-packages (from tensorflow) (2.15.2)\n",
            "Requirement already satisfied: tensorflow-estimator<2.16,>=2.15.0 in /usr/local/lib/python3.10/dist-packages (from tensorflow) (2.15.0)\n",
            "Requirement already satisfied: keras<2.16,>=2.15.0 in /usr/local/lib/python3.10/dist-packages (from tensorflow) (2.15.0)\n",
            "Requirement already satisfied: python-dateutil>=2.8.2 in /usr/local/lib/python3.10/dist-packages (from pandas) (2.8.2)\n",
            "Requirement already satisfied: pytz>=2020.1 in /usr/local/lib/python3.10/dist-packages (from pandas) (2023.4)\n",
            "Requirement already satisfied: tzdata>=2022.1 in /usr/local/lib/python3.10/dist-packages (from pandas) (2024.1)\n",
            "Requirement already satisfied: scipy>=1.3.2 in /usr/local/lib/python3.10/dist-packages (from scikit-learn) (1.11.4)\n",
            "Requirement already satisfied: joblib>=1.1.1 in /usr/local/lib/python3.10/dist-packages (from scikit-learn) (1.4.2)\n",
            "Requirement already satisfied: threadpoolctl>=2.0.0 in /usr/local/lib/python3.10/dist-packages (from scikit-learn) (3.5.0)\n",
            "Requirement already satisfied: wheel<1.0,>=0.23.0 in /usr/local/lib/python3.10/dist-packages (from astunparse>=1.6.0->tensorflow) (0.43.0)\n",
            "Requirement already satisfied: google-auth<3,>=1.6.3 in /usr/local/lib/python3.10/dist-packages (from tensorboard<2.16,>=2.15->tensorflow) (2.27.0)\n",
            "Requirement already satisfied: google-auth-oauthlib<2,>=0.5 in /usr/local/lib/python3.10/dist-packages (from tensorboard<2.16,>=2.15->tensorflow) (1.2.1)\n",
            "Requirement already satisfied: markdown>=2.6.8 in /usr/local/lib/python3.10/dist-packages (from tensorboard<2.16,>=2.15->tensorflow) (3.6)\n",
            "Requirement already satisfied: requests<3,>=2.21.0 in /usr/local/lib/python3.10/dist-packages (from tensorboard<2.16,>=2.15->tensorflow) (2.31.0)\n",
            "Requirement already satisfied: tensorboard-data-server<0.8.0,>=0.7.0 in /usr/local/lib/python3.10/dist-packages (from tensorboard<2.16,>=2.15->tensorflow) (0.7.2)\n",
            "Requirement already satisfied: werkzeug>=1.0.1 in /usr/local/lib/python3.10/dist-packages (from tensorboard<2.16,>=2.15->tensorflow) (3.0.3)\n",
            "Requirement already satisfied: cachetools<6.0,>=2.0.0 in /usr/local/lib/python3.10/dist-packages (from google-auth<3,>=1.6.3->tensorboard<2.16,>=2.15->tensorflow) (5.4.0)\n",
            "Requirement already satisfied: pyasn1-modules>=0.2.1 in /usr/local/lib/python3.10/dist-packages (from google-auth<3,>=1.6.3->tensorboard<2.16,>=2.15->tensorflow) (0.4.0)\n",
            "Requirement already satisfied: rsa<5,>=3.1.4 in /usr/local/lib/python3.10/dist-packages (from google-auth<3,>=1.6.3->tensorboard<2.16,>=2.15->tensorflow) (4.9)\n",
            "Requirement already satisfied: requests-oauthlib>=0.7.0 in /usr/local/lib/python3.10/dist-packages (from google-auth-oauthlib<2,>=0.5->tensorboard<2.16,>=2.15->tensorflow) (1.3.1)\n",
            "Requirement already satisfied: charset-normalizer<4,>=2 in /usr/local/lib/python3.10/dist-packages (from requests<3,>=2.21.0->tensorboard<2.16,>=2.15->tensorflow) (3.3.2)\n",
            "Requirement already satisfied: idna<4,>=2.5 in /usr/local/lib/python3.10/dist-packages (from requests<3,>=2.21.0->tensorboard<2.16,>=2.15->tensorflow) (3.7)\n",
            "Requirement already satisfied: urllib3<3,>=1.21.1 in /usr/local/lib/python3.10/dist-packages (from requests<3,>=2.21.0->tensorboard<2.16,>=2.15->tensorflow) (2.0.7)\n",
            "Requirement already satisfied: certifi>=2017.4.17 in /usr/local/lib/python3.10/dist-packages (from requests<3,>=2.21.0->tensorboard<2.16,>=2.15->tensorflow) (2024.7.4)\n",
            "Requirement already satisfied: MarkupSafe>=2.1.1 in /usr/local/lib/python3.10/dist-packages (from werkzeug>=1.0.1->tensorboard<2.16,>=2.15->tensorflow) (2.1.5)\n",
            "Requirement already satisfied: pyasn1<0.7.0,>=0.4.6 in /usr/local/lib/python3.10/dist-packages (from pyasn1-modules>=0.2.1->google-auth<3,>=1.6.3->tensorboard<2.16,>=2.15->tensorflow) (0.6.0)\n",
            "Requirement already satisfied: oauthlib>=3.0.0 in /usr/local/lib/python3.10/dist-packages (from requests-oauthlib>=0.7.0->google-auth-oauthlib<2,>=0.5->tensorboard<2.16,>=2.15->tensorflow) (3.2.2)\n"
          ]
        }
      ],
      "source": [
        "!pip install tensorflow pandas scikit-learn\n"
      ]
    },
    {
      "cell_type": "code",
      "source": [
        "from google.colab import files\n",
        "import pandas as pd"
      ],
      "metadata": {
        "id": "NfheRboCJee3"
      },
      "execution_count": 2,
      "outputs": []
    },
    {
      "cell_type": "code",
      "source": [
        "uploaded = files.upload()"
      ],
      "metadata": {
        "colab": {
          "base_uri": "https://localhost:8080/",
          "height": 73
        },
        "id": "GPQzJBDXKqRj",
        "outputId": "038df0ec-27e1-4ae5-cded-bdd272021549"
      },
      "execution_count": 3,
      "outputs": [
        {
          "output_type": "display_data",
          "data": {
            "text/plain": [
              "<IPython.core.display.HTML object>"
            ],
            "text/html": [
              "\n",
              "     <input type=\"file\" id=\"files-d3fbe114-f851-4388-b99b-1d6fe1f601f6\" name=\"files[]\" multiple disabled\n",
              "        style=\"border:none\" />\n",
              "     <output id=\"result-d3fbe114-f851-4388-b99b-1d6fe1f601f6\">\n",
              "      Upload widget is only available when the cell has been executed in the\n",
              "      current browser session. Please rerun this cell to enable.\n",
              "      </output>\n",
              "      <script>// Copyright 2017 Google LLC\n",
              "//\n",
              "// Licensed under the Apache License, Version 2.0 (the \"License\");\n",
              "// you may not use this file except in compliance with the License.\n",
              "// You may obtain a copy of the License at\n",
              "//\n",
              "//      http://www.apache.org/licenses/LICENSE-2.0\n",
              "//\n",
              "// Unless required by applicable law or agreed to in writing, software\n",
              "// distributed under the License is distributed on an \"AS IS\" BASIS,\n",
              "// WITHOUT WARRANTIES OR CONDITIONS OF ANY KIND, either express or implied.\n",
              "// See the License for the specific language governing permissions and\n",
              "// limitations under the License.\n",
              "\n",
              "/**\n",
              " * @fileoverview Helpers for google.colab Python module.\n",
              " */\n",
              "(function(scope) {\n",
              "function span(text, styleAttributes = {}) {\n",
              "  const element = document.createElement('span');\n",
              "  element.textContent = text;\n",
              "  for (const key of Object.keys(styleAttributes)) {\n",
              "    element.style[key] = styleAttributes[key];\n",
              "  }\n",
              "  return element;\n",
              "}\n",
              "\n",
              "// Max number of bytes which will be uploaded at a time.\n",
              "const MAX_PAYLOAD_SIZE = 100 * 1024;\n",
              "\n",
              "function _uploadFiles(inputId, outputId) {\n",
              "  const steps = uploadFilesStep(inputId, outputId);\n",
              "  const outputElement = document.getElementById(outputId);\n",
              "  // Cache steps on the outputElement to make it available for the next call\n",
              "  // to uploadFilesContinue from Python.\n",
              "  outputElement.steps = steps;\n",
              "\n",
              "  return _uploadFilesContinue(outputId);\n",
              "}\n",
              "\n",
              "// This is roughly an async generator (not supported in the browser yet),\n",
              "// where there are multiple asynchronous steps and the Python side is going\n",
              "// to poll for completion of each step.\n",
              "// This uses a Promise to block the python side on completion of each step,\n",
              "// then passes the result of the previous step as the input to the next step.\n",
              "function _uploadFilesContinue(outputId) {\n",
              "  const outputElement = document.getElementById(outputId);\n",
              "  const steps = outputElement.steps;\n",
              "\n",
              "  const next = steps.next(outputElement.lastPromiseValue);\n",
              "  return Promise.resolve(next.value.promise).then((value) => {\n",
              "    // Cache the last promise value to make it available to the next\n",
              "    // step of the generator.\n",
              "    outputElement.lastPromiseValue = value;\n",
              "    return next.value.response;\n",
              "  });\n",
              "}\n",
              "\n",
              "/**\n",
              " * Generator function which is called between each async step of the upload\n",
              " * process.\n",
              " * @param {string} inputId Element ID of the input file picker element.\n",
              " * @param {string} outputId Element ID of the output display.\n",
              " * @return {!Iterable<!Object>} Iterable of next steps.\n",
              " */\n",
              "function* uploadFilesStep(inputId, outputId) {\n",
              "  const inputElement = document.getElementById(inputId);\n",
              "  inputElement.disabled = false;\n",
              "\n",
              "  const outputElement = document.getElementById(outputId);\n",
              "  outputElement.innerHTML = '';\n",
              "\n",
              "  const pickedPromise = new Promise((resolve) => {\n",
              "    inputElement.addEventListener('change', (e) => {\n",
              "      resolve(e.target.files);\n",
              "    });\n",
              "  });\n",
              "\n",
              "  const cancel = document.createElement('button');\n",
              "  inputElement.parentElement.appendChild(cancel);\n",
              "  cancel.textContent = 'Cancel upload';\n",
              "  const cancelPromise = new Promise((resolve) => {\n",
              "    cancel.onclick = () => {\n",
              "      resolve(null);\n",
              "    };\n",
              "  });\n",
              "\n",
              "  // Wait for the user to pick the files.\n",
              "  const files = yield {\n",
              "    promise: Promise.race([pickedPromise, cancelPromise]),\n",
              "    response: {\n",
              "      action: 'starting',\n",
              "    }\n",
              "  };\n",
              "\n",
              "  cancel.remove();\n",
              "\n",
              "  // Disable the input element since further picks are not allowed.\n",
              "  inputElement.disabled = true;\n",
              "\n",
              "  if (!files) {\n",
              "    return {\n",
              "      response: {\n",
              "        action: 'complete',\n",
              "      }\n",
              "    };\n",
              "  }\n",
              "\n",
              "  for (const file of files) {\n",
              "    const li = document.createElement('li');\n",
              "    li.append(span(file.name, {fontWeight: 'bold'}));\n",
              "    li.append(span(\n",
              "        `(${file.type || 'n/a'}) - ${file.size} bytes, ` +\n",
              "        `last modified: ${\n",
              "            file.lastModifiedDate ? file.lastModifiedDate.toLocaleDateString() :\n",
              "                                    'n/a'} - `));\n",
              "    const percent = span('0% done');\n",
              "    li.appendChild(percent);\n",
              "\n",
              "    outputElement.appendChild(li);\n",
              "\n",
              "    const fileDataPromise = new Promise((resolve) => {\n",
              "      const reader = new FileReader();\n",
              "      reader.onload = (e) => {\n",
              "        resolve(e.target.result);\n",
              "      };\n",
              "      reader.readAsArrayBuffer(file);\n",
              "    });\n",
              "    // Wait for the data to be ready.\n",
              "    let fileData = yield {\n",
              "      promise: fileDataPromise,\n",
              "      response: {\n",
              "        action: 'continue',\n",
              "      }\n",
              "    };\n",
              "\n",
              "    // Use a chunked sending to avoid message size limits. See b/62115660.\n",
              "    let position = 0;\n",
              "    do {\n",
              "      const length = Math.min(fileData.byteLength - position, MAX_PAYLOAD_SIZE);\n",
              "      const chunk = new Uint8Array(fileData, position, length);\n",
              "      position += length;\n",
              "\n",
              "      const base64 = btoa(String.fromCharCode.apply(null, chunk));\n",
              "      yield {\n",
              "        response: {\n",
              "          action: 'append',\n",
              "          file: file.name,\n",
              "          data: base64,\n",
              "        },\n",
              "      };\n",
              "\n",
              "      let percentDone = fileData.byteLength === 0 ?\n",
              "          100 :\n",
              "          Math.round((position / fileData.byteLength) * 100);\n",
              "      percent.textContent = `${percentDone}% done`;\n",
              "\n",
              "    } while (position < fileData.byteLength);\n",
              "  }\n",
              "\n",
              "  // All done.\n",
              "  yield {\n",
              "    response: {\n",
              "      action: 'complete',\n",
              "    }\n",
              "  };\n",
              "}\n",
              "\n",
              "scope.google = scope.google || {};\n",
              "scope.google.colab = scope.google.colab || {};\n",
              "scope.google.colab._files = {\n",
              "  _uploadFiles,\n",
              "  _uploadFilesContinue,\n",
              "};\n",
              "})(self);\n",
              "</script> "
            ]
          },
          "metadata": {}
        },
        {
          "output_type": "stream",
          "name": "stdout",
          "text": [
            "Saving mobile_data.csv to mobile_data (1).csv\n"
          ]
        }
      ]
    },
    {
      "cell_type": "markdown",
      "source": [
        "Read csv file into a **PandasDataFrame**"
      ],
      "metadata": {
        "id": "93xYgWXfNmlg"
      }
    },
    {
      "cell_type": "code",
      "source": [
        "data = pd.read_csv('mobile_data.csv')"
      ],
      "metadata": {
        "id": "rbCHhv53K0mu"
      },
      "execution_count": 4,
      "outputs": []
    },
    {
      "cell_type": "markdown",
      "source": [
        "**Process the Data**"
      ],
      "metadata": {
        "id": "TaHi9n0YN1mN"
      }
    },
    {
      "cell_type": "code",
      "source": [
        "from sklearn.preprocessing import StandardScaler"
      ],
      "metadata": {
        "id": "r9o4mkN7K-z2"
      },
      "execution_count": 5,
      "outputs": []
    },
    {
      "cell_type": "code",
      "source": [
        "X = data.drop('price_range', axis=1)\n",
        "y = data['price_range']"
      ],
      "metadata": {
        "id": "Q4E-K57hLVuW"
      },
      "execution_count": 6,
      "outputs": []
    },
    {
      "cell_type": "markdown",
      "source": [
        "**Normalize the Data**"
      ],
      "metadata": {
        "id": "lkTigVkOOF0M"
      }
    },
    {
      "cell_type": "code",
      "source": [
        "scaler = StandardScaler()\n",
        "X_scaled = scaler.fit_transform(X)"
      ],
      "metadata": {
        "id": "Qk1zN5eXLn5H"
      },
      "execution_count": 7,
      "outputs": []
    },
    {
      "cell_type": "markdown",
      "source": [
        "**Split the Data into Training and Testing Sets**"
      ],
      "metadata": {
        "id": "mD-6sVQsONn7"
      }
    },
    {
      "cell_type": "code",
      "source": [
        "from sklearn.model_selection import train_test_split\n",
        "\n",
        "X_train, X_test, y_train, y_test = train_test_split(X_scaled, y, test_size=0.25, random_state=42)\n"
      ],
      "metadata": {
        "id": "4lnJ-Kv3Lxro"
      },
      "execution_count": 8,
      "outputs": []
    },
    {
      "cell_type": "markdown",
      "source": [
        "**Build the ANN Model**"
      ],
      "metadata": {
        "id": "B7HhaXsIOZMQ"
      }
    },
    {
      "cell_type": "code",
      "source": [
        "import tensorflow as tf\n",
        "from tensorflow.keras.models import Sequential\n",
        "from tensorflow.keras.layers import Dense"
      ],
      "metadata": {
        "id": "fve-Jm9eMCNF"
      },
      "execution_count": 9,
      "outputs": []
    },
    {
      "cell_type": "code",
      "source": [
        "model = Sequential()\n",
        "model.add(Dense(8, input_dim=X_train.shape[1], activation='relu'))\n",
        "model.add(Dense(4, activation='relu'))\n",
        "model.add(Dense(1, activation='sigmoid'))"
      ],
      "metadata": {
        "id": "vi-_gkv1MLRo"
      },
      "execution_count": 10,
      "outputs": []
    },
    {
      "cell_type": "markdown",
      "source": [
        "**Compile the Model**"
      ],
      "metadata": {
        "id": "iZiZYsdHOcXE"
      }
    },
    {
      "cell_type": "code",
      "source": [
        "model.compile(optimizer='adam', loss='binary_crossentropy', metrics=['accuracy'])\n"
      ],
      "metadata": {
        "id": "4HePSiWOMQpL"
      },
      "execution_count": 11,
      "outputs": []
    },
    {
      "cell_type": "markdown",
      "source": [
        "**Train The Model**"
      ],
      "metadata": {
        "id": "YLafR3F_OuAN"
      }
    },
    {
      "cell_type": "code",
      "source": [
        "model.fit(X_train, y_train, epochs=100, batch_size=32, validation_split=0.1)\n"
      ],
      "metadata": {
        "colab": {
          "base_uri": "https://localhost:8080/"
        },
        "id": "64-OLl6COxX1",
        "outputId": "980d07e4-6423-49b3-eee1-7be258a972f5"
      },
      "execution_count": 14,
      "outputs": [
        {
          "output_type": "stream",
          "name": "stdout",
          "text": [
            "Epoch 1/100\n",
            "43/43 [==============================] - 1s 8ms/step - loss: 0.7357 - accuracy: 0.5296 - val_loss: 0.7225 - val_accuracy: 0.5133\n",
            "Epoch 2/100\n",
            "43/43 [==============================] - 0s 3ms/step - loss: 0.6939 - accuracy: 0.5607 - val_loss: 0.6880 - val_accuracy: 0.5467\n",
            "Epoch 3/100\n",
            "43/43 [==============================] - 0s 3ms/step - loss: 0.6746 - accuracy: 0.5889 - val_loss: 0.6717 - val_accuracy: 0.5733\n",
            "Epoch 4/100\n",
            "43/43 [==============================] - 0s 3ms/step - loss: 0.6622 - accuracy: 0.6074 - val_loss: 0.6614 - val_accuracy: 0.5933\n",
            "Epoch 5/100\n",
            "43/43 [==============================] - 0s 2ms/step - loss: 0.6532 - accuracy: 0.6274 - val_loss: 0.6547 - val_accuracy: 0.6067\n",
            "Epoch 6/100\n",
            "43/43 [==============================] - 0s 3ms/step - loss: 0.6451 - accuracy: 0.6311 - val_loss: 0.6500 - val_accuracy: 0.6267\n",
            "Epoch 7/100\n",
            "43/43 [==============================] - 0s 3ms/step - loss: 0.6367 - accuracy: 0.6467 - val_loss: 0.6445 - val_accuracy: 0.6400\n",
            "Epoch 8/100\n",
            "43/43 [==============================] - 0s 3ms/step - loss: 0.6291 - accuracy: 0.6519 - val_loss: 0.6381 - val_accuracy: 0.6267\n",
            "Epoch 9/100\n",
            "43/43 [==============================] - 0s 2ms/step - loss: 0.6217 - accuracy: 0.6541 - val_loss: 0.6334 - val_accuracy: 0.6333\n",
            "Epoch 10/100\n",
            "43/43 [==============================] - 0s 3ms/step - loss: 0.6137 - accuracy: 0.6578 - val_loss: 0.6293 - val_accuracy: 0.6333\n",
            "Epoch 11/100\n",
            "43/43 [==============================] - 0s 3ms/step - loss: 0.6059 - accuracy: 0.6652 - val_loss: 0.6248 - val_accuracy: 0.6267\n",
            "Epoch 12/100\n",
            "43/43 [==============================] - 0s 3ms/step - loss: 0.5986 - accuracy: 0.6704 - val_loss: 0.6210 - val_accuracy: 0.6267\n",
            "Epoch 13/100\n",
            "43/43 [==============================] - 0s 3ms/step - loss: 0.5922 - accuracy: 0.6748 - val_loss: 0.6200 - val_accuracy: 0.6267\n",
            "Epoch 14/100\n",
            "43/43 [==============================] - 0s 4ms/step - loss: 0.5865 - accuracy: 0.6741 - val_loss: 0.6171 - val_accuracy: 0.6267\n",
            "Epoch 15/100\n",
            "43/43 [==============================] - 0s 3ms/step - loss: 0.5812 - accuracy: 0.6696 - val_loss: 0.6155 - val_accuracy: 0.6200\n",
            "Epoch 16/100\n",
            "43/43 [==============================] - 0s 3ms/step - loss: 0.5770 - accuracy: 0.6674 - val_loss: 0.6142 - val_accuracy: 0.6133\n",
            "Epoch 17/100\n",
            "43/43 [==============================] - 0s 3ms/step - loss: 0.5730 - accuracy: 0.6711 - val_loss: 0.6163 - val_accuracy: 0.6133\n",
            "Epoch 18/100\n",
            "43/43 [==============================] - 0s 3ms/step - loss: 0.5694 - accuracy: 0.6704 - val_loss: 0.6146 - val_accuracy: 0.6200\n",
            "Epoch 19/100\n",
            "43/43 [==============================] - 0s 3ms/step - loss: 0.5665 - accuracy: 0.6711 - val_loss: 0.6154 - val_accuracy: 0.6200\n",
            "Epoch 20/100\n",
            "43/43 [==============================] - 0s 3ms/step - loss: 0.5638 - accuracy: 0.6733 - val_loss: 0.6161 - val_accuracy: 0.6267\n",
            "Epoch 21/100\n",
            "43/43 [==============================] - 0s 3ms/step - loss: 0.5613 - accuracy: 0.6733 - val_loss: 0.6157 - val_accuracy: 0.6200\n",
            "Epoch 22/100\n",
            "43/43 [==============================] - 0s 3ms/step - loss: 0.5587 - accuracy: 0.6763 - val_loss: 0.6173 - val_accuracy: 0.6200\n",
            "Epoch 23/100\n",
            "43/43 [==============================] - 0s 3ms/step - loss: 0.5566 - accuracy: 0.6778 - val_loss: 0.6186 - val_accuracy: 0.6267\n",
            "Epoch 24/100\n",
            "43/43 [==============================] - 0s 3ms/step - loss: 0.5545 - accuracy: 0.6778 - val_loss: 0.6199 - val_accuracy: 0.6200\n",
            "Epoch 25/100\n",
            "43/43 [==============================] - 0s 3ms/step - loss: 0.5528 - accuracy: 0.6778 - val_loss: 0.6223 - val_accuracy: 0.6200\n",
            "Epoch 26/100\n",
            "43/43 [==============================] - 0s 3ms/step - loss: 0.5508 - accuracy: 0.6807 - val_loss: 0.6228 - val_accuracy: 0.6133\n",
            "Epoch 27/100\n",
            "43/43 [==============================] - 0s 2ms/step - loss: 0.5488 - accuracy: 0.6793 - val_loss: 0.6238 - val_accuracy: 0.6133\n",
            "Epoch 28/100\n",
            "43/43 [==============================] - 0s 3ms/step - loss: 0.5477 - accuracy: 0.6822 - val_loss: 0.6248 - val_accuracy: 0.6133\n",
            "Epoch 29/100\n",
            "43/43 [==============================] - 0s 3ms/step - loss: 0.5453 - accuracy: 0.6881 - val_loss: 0.6259 - val_accuracy: 0.6067\n",
            "Epoch 30/100\n",
            "43/43 [==============================] - 0s 3ms/step - loss: 0.5437 - accuracy: 0.6881 - val_loss: 0.6270 - val_accuracy: 0.6067\n",
            "Epoch 31/100\n",
            "43/43 [==============================] - 0s 3ms/step - loss: 0.5420 - accuracy: 0.6881 - val_loss: 0.6253 - val_accuracy: 0.6067\n",
            "Epoch 32/100\n",
            "43/43 [==============================] - 0s 2ms/step - loss: 0.5401 - accuracy: 0.6881 - val_loss: 0.6259 - val_accuracy: 0.6067\n",
            "Epoch 33/100\n",
            "43/43 [==============================] - 0s 3ms/step - loss: 0.5385 - accuracy: 0.6881 - val_loss: 0.6269 - val_accuracy: 0.5933\n",
            "Epoch 34/100\n",
            "43/43 [==============================] - 0s 3ms/step - loss: 0.5370 - accuracy: 0.6852 - val_loss: 0.6273 - val_accuracy: 0.5933\n",
            "Epoch 35/100\n",
            "43/43 [==============================] - 0s 3ms/step - loss: 0.5359 - accuracy: 0.6889 - val_loss: 0.6270 - val_accuracy: 0.6000\n",
            "Epoch 36/100\n",
            "43/43 [==============================] - 0s 2ms/step - loss: 0.5341 - accuracy: 0.6926 - val_loss: 0.6282 - val_accuracy: 0.5933\n",
            "Epoch 37/100\n",
            "43/43 [==============================] - 0s 3ms/step - loss: 0.5326 - accuracy: 0.6933 - val_loss: 0.6279 - val_accuracy: 0.5933\n",
            "Epoch 38/100\n",
            "43/43 [==============================] - 0s 3ms/step - loss: 0.5312 - accuracy: 0.6933 - val_loss: 0.6278 - val_accuracy: 0.6067\n",
            "Epoch 39/100\n",
            "43/43 [==============================] - 0s 3ms/step - loss: 0.5298 - accuracy: 0.6948 - val_loss: 0.6254 - val_accuracy: 0.6000\n",
            "Epoch 40/100\n",
            "43/43 [==============================] - 0s 2ms/step - loss: 0.5282 - accuracy: 0.6956 - val_loss: 0.6259 - val_accuracy: 0.6067\n",
            "Epoch 41/100\n",
            "43/43 [==============================] - 0s 2ms/step - loss: 0.5265 - accuracy: 0.6985 - val_loss: 0.6262 - val_accuracy: 0.6067\n",
            "Epoch 42/100\n",
            "43/43 [==============================] - 0s 2ms/step - loss: 0.5249 - accuracy: 0.6985 - val_loss: 0.6265 - val_accuracy: 0.6067\n",
            "Epoch 43/100\n",
            "43/43 [==============================] - 0s 3ms/step - loss: 0.5236 - accuracy: 0.6970 - val_loss: 0.6260 - val_accuracy: 0.6067\n",
            "Epoch 44/100\n",
            "43/43 [==============================] - 0s 2ms/step - loss: 0.5221 - accuracy: 0.6970 - val_loss: 0.6260 - val_accuracy: 0.6067\n",
            "Epoch 45/100\n",
            "43/43 [==============================] - 0s 3ms/step - loss: 0.5206 - accuracy: 0.6970 - val_loss: 0.6263 - val_accuracy: 0.6000\n",
            "Epoch 46/100\n",
            "43/43 [==============================] - 0s 3ms/step - loss: 0.5189 - accuracy: 0.6985 - val_loss: 0.6257 - val_accuracy: 0.6067\n",
            "Epoch 47/100\n",
            "43/43 [==============================] - 0s 3ms/step - loss: 0.5174 - accuracy: 0.7000 - val_loss: 0.6242 - val_accuracy: 0.6067\n",
            "Epoch 48/100\n",
            "43/43 [==============================] - 0s 3ms/step - loss: 0.5161 - accuracy: 0.7000 - val_loss: 0.6242 - val_accuracy: 0.6000\n",
            "Epoch 49/100\n",
            "43/43 [==============================] - 0s 2ms/step - loss: 0.5147 - accuracy: 0.7015 - val_loss: 0.6236 - val_accuracy: 0.6000\n",
            "Epoch 50/100\n",
            "43/43 [==============================] - 0s 2ms/step - loss: 0.5134 - accuracy: 0.7030 - val_loss: 0.6238 - val_accuracy: 0.5933\n",
            "Epoch 51/100\n",
            "43/43 [==============================] - 0s 2ms/step - loss: 0.5121 - accuracy: 0.6993 - val_loss: 0.6215 - val_accuracy: 0.5933\n",
            "Epoch 52/100\n",
            "43/43 [==============================] - 0s 2ms/step - loss: 0.5106 - accuracy: 0.7037 - val_loss: 0.6178 - val_accuracy: 0.6067\n",
            "Epoch 53/100\n",
            "43/43 [==============================] - 0s 3ms/step - loss: 0.5087 - accuracy: 0.7030 - val_loss: 0.6161 - val_accuracy: 0.6000\n",
            "Epoch 54/100\n",
            "43/43 [==============================] - 0s 3ms/step - loss: 0.5074 - accuracy: 0.7044 - val_loss: 0.6147 - val_accuracy: 0.6133\n",
            "Epoch 55/100\n",
            "43/43 [==============================] - 0s 3ms/step - loss: 0.5058 - accuracy: 0.7030 - val_loss: 0.6146 - val_accuracy: 0.6133\n",
            "Epoch 56/100\n",
            "43/43 [==============================] - 0s 3ms/step - loss: 0.5042 - accuracy: 0.7037 - val_loss: 0.6125 - val_accuracy: 0.6133\n",
            "Epoch 57/100\n",
            "43/43 [==============================] - 0s 3ms/step - loss: 0.5028 - accuracy: 0.7015 - val_loss: 0.6099 - val_accuracy: 0.6133\n",
            "Epoch 58/100\n",
            "43/43 [==============================] - 0s 2ms/step - loss: 0.5016 - accuracy: 0.7037 - val_loss: 0.6084 - val_accuracy: 0.6133\n",
            "Epoch 59/100\n",
            "43/43 [==============================] - 0s 3ms/step - loss: 0.5000 - accuracy: 0.7015 - val_loss: 0.6051 - val_accuracy: 0.6200\n",
            "Epoch 60/100\n",
            "43/43 [==============================] - 0s 3ms/step - loss: 0.4982 - accuracy: 0.7052 - val_loss: 0.6040 - val_accuracy: 0.6200\n",
            "Epoch 61/100\n",
            "43/43 [==============================] - 0s 3ms/step - loss: 0.4964 - accuracy: 0.7044 - val_loss: 0.6025 - val_accuracy: 0.6200\n",
            "Epoch 62/100\n",
            "43/43 [==============================] - 0s 3ms/step - loss: 0.4942 - accuracy: 0.7096 - val_loss: 0.6010 - val_accuracy: 0.6200\n",
            "Epoch 63/100\n",
            "43/43 [==============================] - 0s 3ms/step - loss: 0.4926 - accuracy: 0.7111 - val_loss: 0.5963 - val_accuracy: 0.6333\n",
            "Epoch 64/100\n",
            "43/43 [==============================] - 0s 4ms/step - loss: 0.4903 - accuracy: 0.7111 - val_loss: 0.5954 - val_accuracy: 0.6133\n",
            "Epoch 65/100\n",
            "43/43 [==============================] - 0s 4ms/step - loss: 0.4882 - accuracy: 0.7156 - val_loss: 0.5943 - val_accuracy: 0.6200\n",
            "Epoch 66/100\n",
            "43/43 [==============================] - 0s 4ms/step - loss: 0.4865 - accuracy: 0.7133 - val_loss: 0.5923 - val_accuracy: 0.6200\n",
            "Epoch 67/100\n",
            "43/43 [==============================] - 0s 5ms/step - loss: 0.4847 - accuracy: 0.7096 - val_loss: 0.5905 - val_accuracy: 0.6200\n",
            "Epoch 68/100\n",
            "43/43 [==============================] - 0s 4ms/step - loss: 0.4824 - accuracy: 0.7163 - val_loss: 0.5900 - val_accuracy: 0.6133\n",
            "Epoch 69/100\n",
            "43/43 [==============================] - 0s 4ms/step - loss: 0.4807 - accuracy: 0.7126 - val_loss: 0.5867 - val_accuracy: 0.6133\n",
            "Epoch 70/100\n",
            "43/43 [==============================] - 0s 4ms/step - loss: 0.4787 - accuracy: 0.7148 - val_loss: 0.5854 - val_accuracy: 0.6133\n",
            "Epoch 71/100\n",
            "43/43 [==============================] - 0s 4ms/step - loss: 0.4762 - accuracy: 0.7163 - val_loss: 0.5826 - val_accuracy: 0.6133\n",
            "Epoch 72/100\n",
            "43/43 [==============================] - 0s 5ms/step - loss: 0.4740 - accuracy: 0.7207 - val_loss: 0.5821 - val_accuracy: 0.6067\n",
            "Epoch 73/100\n",
            "43/43 [==============================] - 0s 5ms/step - loss: 0.4719 - accuracy: 0.7215 - val_loss: 0.5777 - val_accuracy: 0.6133\n",
            "Epoch 74/100\n",
            "43/43 [==============================] - 0s 5ms/step - loss: 0.4700 - accuracy: 0.7274 - val_loss: 0.5762 - val_accuracy: 0.6200\n",
            "Epoch 75/100\n",
            "43/43 [==============================] - 0s 4ms/step - loss: 0.4676 - accuracy: 0.7244 - val_loss: 0.5739 - val_accuracy: 0.6200\n",
            "Epoch 76/100\n",
            "43/43 [==============================] - 0s 4ms/step - loss: 0.4650 - accuracy: 0.7244 - val_loss: 0.5700 - val_accuracy: 0.6200\n",
            "Epoch 77/100\n",
            "43/43 [==============================] - 0s 5ms/step - loss: 0.4627 - accuracy: 0.7237 - val_loss: 0.5674 - val_accuracy: 0.6333\n",
            "Epoch 78/100\n",
            "43/43 [==============================] - 0s 4ms/step - loss: 0.4608 - accuracy: 0.7274 - val_loss: 0.5642 - val_accuracy: 0.6333\n",
            "Epoch 79/100\n",
            "43/43 [==============================] - 0s 4ms/step - loss: 0.4582 - accuracy: 0.7244 - val_loss: 0.5624 - val_accuracy: 0.6267\n",
            "Epoch 80/100\n",
            "43/43 [==============================] - 0s 5ms/step - loss: 0.4561 - accuracy: 0.7252 - val_loss: 0.5623 - val_accuracy: 0.6333\n",
            "Epoch 81/100\n",
            "43/43 [==============================] - 0s 3ms/step - loss: 0.4546 - accuracy: 0.7304 - val_loss: 0.5594 - val_accuracy: 0.6467\n",
            "Epoch 82/100\n",
            "43/43 [==============================] - 0s 3ms/step - loss: 0.4522 - accuracy: 0.7356 - val_loss: 0.5576 - val_accuracy: 0.6200\n",
            "Epoch 83/100\n",
            "43/43 [==============================] - 0s 3ms/step - loss: 0.4502 - accuracy: 0.7341 - val_loss: 0.5550 - val_accuracy: 0.6467\n",
            "Epoch 84/100\n",
            "43/43 [==============================] - 0s 3ms/step - loss: 0.4487 - accuracy: 0.7348 - val_loss: 0.5537 - val_accuracy: 0.6467\n",
            "Epoch 85/100\n",
            "43/43 [==============================] - 0s 3ms/step - loss: 0.4465 - accuracy: 0.7370 - val_loss: 0.5511 - val_accuracy: 0.6467\n",
            "Epoch 86/100\n",
            "43/43 [==============================] - 0s 3ms/step - loss: 0.4449 - accuracy: 0.7437 - val_loss: 0.5476 - val_accuracy: 0.6533\n",
            "Epoch 87/100\n",
            "43/43 [==============================] - 0s 3ms/step - loss: 0.4425 - accuracy: 0.7430 - val_loss: 0.5453 - val_accuracy: 0.6733\n",
            "Epoch 88/100\n",
            "43/43 [==============================] - 0s 3ms/step - loss: 0.4405 - accuracy: 0.7496 - val_loss: 0.5432 - val_accuracy: 0.6667\n",
            "Epoch 89/100\n",
            "43/43 [==============================] - 0s 3ms/step - loss: 0.4384 - accuracy: 0.7489 - val_loss: 0.5412 - val_accuracy: 0.6667\n",
            "Epoch 90/100\n",
            "43/43 [==============================] - 0s 3ms/step - loss: 0.4361 - accuracy: 0.7496 - val_loss: 0.5382 - val_accuracy: 0.6733\n",
            "Epoch 91/100\n",
            "43/43 [==============================] - 0s 3ms/step - loss: 0.4340 - accuracy: 0.7519 - val_loss: 0.5349 - val_accuracy: 0.6733\n",
            "Epoch 92/100\n",
            "43/43 [==============================] - 0s 3ms/step - loss: 0.4320 - accuracy: 0.7519 - val_loss: 0.5327 - val_accuracy: 0.6733\n",
            "Epoch 93/100\n",
            "43/43 [==============================] - 0s 3ms/step - loss: 0.4299 - accuracy: 0.7563 - val_loss: 0.5299 - val_accuracy: 0.6733\n",
            "Epoch 94/100\n",
            "43/43 [==============================] - 0s 3ms/step - loss: 0.4276 - accuracy: 0.7578 - val_loss: 0.5260 - val_accuracy: 0.6733\n",
            "Epoch 95/100\n",
            "43/43 [==============================] - 0s 3ms/step - loss: 0.4255 - accuracy: 0.7622 - val_loss: 0.5231 - val_accuracy: 0.6733\n",
            "Epoch 96/100\n",
            "43/43 [==============================] - 0s 3ms/step - loss: 0.4236 - accuracy: 0.7630 - val_loss: 0.5202 - val_accuracy: 0.6800\n",
            "Epoch 97/100\n",
            "43/43 [==============================] - 0s 2ms/step - loss: 0.4215 - accuracy: 0.7681 - val_loss: 0.5192 - val_accuracy: 0.6733\n",
            "Epoch 98/100\n",
            "43/43 [==============================] - 0s 3ms/step - loss: 0.4199 - accuracy: 0.7711 - val_loss: 0.5173 - val_accuracy: 0.6800\n",
            "Epoch 99/100\n",
            "43/43 [==============================] - 0s 2ms/step - loss: 0.4179 - accuracy: 0.7793 - val_loss: 0.5142 - val_accuracy: 0.6867\n",
            "Epoch 100/100\n",
            "43/43 [==============================] - 0s 3ms/step - loss: 0.4159 - accuracy: 0.7793 - val_loss: 0.5123 - val_accuracy: 0.6800\n"
          ]
        },
        {
          "output_type": "execute_result",
          "data": {
            "text/plain": [
              "<keras.src.callbacks.History at 0x78fb8e3cd2d0>"
            ]
          },
          "metadata": {},
          "execution_count": 14
        }
      ]
    },
    {
      "cell_type": "markdown",
      "source": [
        "**Save the Model Weights**"
      ],
      "metadata": {
        "id": "Z3hqq8O1PSMD"
      }
    },
    {
      "cell_type": "code",
      "source": [
        "model.save_weights('model_weights.h5')\n",
        "\n",
        "# Download the weights file\n",
        "from google.colab import files\n",
        "files.download('model_weights.h5')\n"
      ],
      "metadata": {
        "colab": {
          "base_uri": "https://localhost:8080/",
          "height": 17
        },
        "id": "3xqTkUY5MbjW",
        "outputId": "a4dea3fb-265e-4a86-a172-23c14b5d5ede"
      },
      "execution_count": 15,
      "outputs": [
        {
          "output_type": "display_data",
          "data": {
            "text/plain": [
              "<IPython.core.display.Javascript object>"
            ],
            "application/javascript": [
              "\n",
              "    async function download(id, filename, size) {\n",
              "      if (!google.colab.kernel.accessAllowed) {\n",
              "        return;\n",
              "      }\n",
              "      const div = document.createElement('div');\n",
              "      const label = document.createElement('label');\n",
              "      label.textContent = `Downloading \"${filename}\": `;\n",
              "      div.appendChild(label);\n",
              "      const progress = document.createElement('progress');\n",
              "      progress.max = size;\n",
              "      div.appendChild(progress);\n",
              "      document.body.appendChild(div);\n",
              "\n",
              "      const buffers = [];\n",
              "      let downloaded = 0;\n",
              "\n",
              "      const channel = await google.colab.kernel.comms.open(id);\n",
              "      // Send a message to notify the kernel that we're ready.\n",
              "      channel.send({})\n",
              "\n",
              "      for await (const message of channel.messages) {\n",
              "        // Send a message to notify the kernel that we're ready.\n",
              "        channel.send({})\n",
              "        if (message.buffers) {\n",
              "          for (const buffer of message.buffers) {\n",
              "            buffers.push(buffer);\n",
              "            downloaded += buffer.byteLength;\n",
              "            progress.value = downloaded;\n",
              "          }\n",
              "        }\n",
              "      }\n",
              "      const blob = new Blob(buffers, {type: 'application/binary'});\n",
              "      const a = document.createElement('a');\n",
              "      a.href = window.URL.createObjectURL(blob);\n",
              "      a.download = filename;\n",
              "      div.appendChild(a);\n",
              "      a.click();\n",
              "      div.remove();\n",
              "    }\n",
              "  "
            ]
          },
          "metadata": {}
        },
        {
          "output_type": "display_data",
          "data": {
            "text/plain": [
              "<IPython.core.display.Javascript object>"
            ],
            "application/javascript": [
              "download(\"download_c1cccab7-9445-4e16-a2a3-b36a639d4629\", \"model_weights.h5\", 16648)"
            ]
          },
          "metadata": {}
        }
      ]
    }
  ]
}